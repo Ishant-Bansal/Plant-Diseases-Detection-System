{
 "cells": [
  {
   "cell_type": "code",
   "execution_count": 1,
   "id": "e3e1fac4",
   "metadata": {},
   "outputs": [
    {
     "name": "stdout",
     "output_type": "stream",
     "text": [
      "WARNING:tensorflow:From c:\\Users\\ishan\\AppData\\Local\\Programs\\Python\\Python311\\Lib\\site-packages\\keras\\src\\losses.py:2976: The name tf.losses.sparse_softmax_cross_entropy is deprecated. Please use tf.compat.v1.losses.sparse_softmax_cross_entropy instead.\n",
      "\n"
     ]
    }
   ],
   "source": [
    "\n",
    "import tensorflow as tf\n",
    "from tensorflow.keras.preprocessing.image import ImageDataGenerator\n",
    "from tensorflow.keras.models import Sequential\n",
    "from tensorflow.keras.layers import Conv2D, MaxPooling2D, Flatten, Dense, Dropout\n",
    "from tensorflow.keras.optimizers import Adam\n",
    "import matplotlib.pyplot as plt\n",
    "import os"
   ]
  },
  "execution_count": 3,
     "metadata": {},
     "output_type": "execute_result"
    }
   ],
   "source": [
    "os.listdir(current_path)"
   ]
  },
  {
   "cell_type": "code",
   "execution_count": 2,
   "id": "3fd1619a",
   "metadata": {},
   "outputs": [],
   "source": [
    "current_path = os.path.join(os.getcwd(),'DATASET','plantvillage')\n"
   ]
  },

  {
   "cell_type": "code",
   "execution_count": 3,
   "id": "228aef03",
   "metadata": {},
   "outputs": [
    {
     "data": {
      "text/plain": [
       "['Apple___Apple_scab',\n",
       " 'Apple___Black_rot',\n",
       " 'Apple___Cedar_apple_rust',\n",
       " 'Apple___healthy',\n",
       " 'Blueberry___healthy',\n",
       " 'Cherry_(including_sour)___healthy',\n",
       " 'Cherry_(including_sour)___Powdery_mildew',\n",
       " 'Corn_(maize)___Cercospora_leaf_spot Gray_leaf_spot',\n",
       " 'Corn_(maize)___Common_rust_',\n",
       " 'Corn_(maize)___healthy',\n",
       " 'Corn_(maize)___Northern_Leaf_Blight',\n",
       " 'Grape___Black_rot',\n",
       " 'Grape___Esca_(Black_Measles)',\n",
       " 'Grape___healthy',\n",
       " 'Grape___Leaf_blight_(Isariopsis_Leaf_Spot)',\n",
       " 'Orange___Haunglongbing_(Citrus_greening)',\n",
       " 'Peach___Bacterial_spot',\n",
       " 'Peach___healthy',\n",
       " 'Pepper,_bell___Bacterial_spot',\n",
       " 'Pepper,_bell___healthy',\n",
       " 'Potato___Early_blight',\n",
       " 'Potato___healthy',\n",
       " 'Potato___Late_blight',\n",
       " 'Raspberry___healthy',\n",
       " 'Soybean___healthy',\n",
       " 'Squash___Powdery_mildew',\n",
       " 'Strawberry___healthy',\n",
       " 'Strawberry___Leaf_scorch',\n",
       " 'Tomato___Bacterial_spot',\n",
       " 'Tomato___Early_blight',\n",
       " 'Tomato___healthy',\n",
       " 'Tomato___Late_blight',\n",
       " 'Tomato___Leaf_Mold',\n",
       " 'Tomato___Septoria_leaf_spot',\n",
       " 'Tomato___Spider_mites Two-spotted_spider_mite',\n",
       " 'Tomato___Target_Spot',\n",
       " 'Tomato___Tomato_mosaic_virus',\n",
       " 'Tomato___Tomato_Yellow_Leaf_Curl_Virus']"
      ]
     },
   
  {
   "cell_type": "code",
   "execution_count": 4,
   "id": "38e12487",
   "metadata": {},
   "outputs": [],
   "source": [
    "datagen = ImageDataGenerator(\n",
    "    rescale=1.0/255.0,\n",
    "    validation_split=0.2\n",
    ")"
   ]
  },
  {
   "cell_type": "code",
   "execution_count": 5,
   "id": "16ec5e83",
   "metadata": {},
   "outputs": [
    {
     "name": "stdout",
     "output_type": "stream",
     "text": [
      "Found 56251 images belonging to 38 classes.\n",
      "Found 14044 images belonging to 38 classes.\n"
     ]
    }
   ],
   "source": [
    "train_data = datagen.flow_from_directory(\n",
    "    current_path,\n",
    "    classes=os.listdir(current_path),\n",
    "    target_size=(128,128),\n",
    "    batch_size=64,\n",
    "    subset='training',\n",
    "    class_mode='categorical'\n",
    ")\n",
    "\n",
    "val_data = datagen.flow_from_directory(\n",
    "    current_path,\n",
    "    classes=os.listdir(current_path),\n",
    "    target_size=(128,128),\n",
    "    batch_size=64,\n",
    "    subset='validation',\n",
    "    class_mode='categorical'\n",
    ")\n"
   ]
  },
  {
   "cell_type": "code",
   "execution_count": 6,
   "id": "3a492345",
   "metadata": {},
   "outputs": [
    {
     "name": "stdout",
     "output_type": "stream",
     "text": [
      "WARNING:tensorflow:From c:\\Users\\ishan\\AppData\\Local\\Programs\\Python\\Python311\\Lib\\site-packages\\keras\\src\\backend.py:873: The name tf.get_default_graph is deprecated. Please use tf.compat.v1.get_default_graph instead.\n",
      "\n",
      "WARNING:tensorflow:From c:\\Users\\ishan\\AppData\\Local\\Programs\\Python\\Python311\\Lib\\site-packages\\keras\\src\\layers\\pooling\\max_pooling2d.py:161: The name tf.nn.max_pool is deprecated. Please use tf.nn.max_pool2d instead.\n",
      "\n",
      "WARNING:tensorflow:From c:\\Users\\ishan\\AppData\\Local\\Programs\\Python\\Python311\\Lib\\site-packages\\keras\\src\\optimizers\\__init__.py:309: The name tf.train.Optimizer is deprecated. Please use tf.compat.v1.train.Optimizer instead.\n",
      "\n",
      "Model: \"sequential\"\n",
      "_________________________________________________________________\n",
      " Layer (type)                Output Shape              Param #   \n",
      "=================================================================\n",
      " conv2d (Conv2D)             (None, 126, 126, 32)      896       \n",
      "                                                                 \n",
      " max_pooling2d (MaxPooling2  (None, 63, 63, 32)        0         \n",
      " D)                                                              \n",
      "                                                                 \n",
      " conv2d_1 (Conv2D)           (None, 61, 61, 64)        18496     \n",
      "                                                                 \n",
      " max_pooling2d_1 (MaxPoolin  (None, 30, 30, 64)        0         \n",
      " g2D)                                                            \n",
      "                                                                 \n",
      " conv2d_2 (Conv2D)           (None, 28, 28, 128)       73856     \n",
      "                                                                 \n",
      " max_pooling2d_2 (MaxPoolin  (None, 14, 14, 128)       0         \n",
      " g2D)                                                            \n",
      "                                                                 \n",
      " flatten (Flatten)           (None, 25088)             0         \n",
      "                                                                 \n",
      " dense (Dense)               (None, 128)               3211392   \n",
      "                                                                 \n",
      " dropout (Dropout)           (None, 128)               0         \n",
      "                                                                 \n",
      " dense_1 (Dense)             (None, 38)                4902      \n",
      "                                                                 \n",
      "=================================================================\n",
      "Total params: 3309542 (12.62 MB)\n",
      "Trainable params: 3309542 (12.62 MB)\n",
      "Non-trainable params: 0 (0.00 Byte)\n",
      "_________________________________________________________________\n"
     ]
    }
   ],
   "source": [
    "\n",
    "model = Sequential([\n",
    "    Conv2D(32, (3,3), activation='relu', input_shape=(128,128,3)),\n",
    "    MaxPooling2D(2,2),\n",
    "    Conv2D(64, (3,3), activation='relu'),\n",
    "    MaxPooling2D(2,2),\n",
    "    Conv2D(128, (3,3), activation='relu'),\n",
    "    MaxPooling2D(2,2),\n",
    "    Flatten(),\n",
    "    Dense(128, activation='relu'),\n",
    "    Dropout(0.5),\n",
    "    Dense(38, activation='softmax')\n",
    "])\n",
    "\n",
    "model.compile(optimizer='Adam',\n",
    "              loss='categorical_crossentropy',\n",
    "              metrics=['accuracy'])\n",
    "\n",
    "model.summary()\n"
   ]
  },
  {
   "cell_type": "code",
   "execution_count": 7,
   "id": "577ce3a5",
   "metadata": {},
   "outputs": [
    {
     "name": "stdout",
     "output_type": "stream",
     "text": [
      "56251\n",
      "14044\n",
      "{'Apple___Apple_scab': 0, 'Apple___Black_rot': 1, 'Apple___Cedar_apple_rust': 2, 'Apple___healthy': 3, 'Blueberry___healthy': 4, 'Cherry_(including_sour)___healthy': 5, 'Cherry_(including_sour)___Powdery_mildew': 6, 'Corn_(maize)___Cercospora_leaf_spot Gray_leaf_spot': 7, 'Corn_(maize)___Common_rust_': 8, 'Corn_(maize)___healthy': 9, 'Corn_(maize)___Northern_Leaf_Blight': 10, 'Grape___Black_rot': 11, 'Grape___Esca_(Black_Measles)': 12, 'Grape___healthy': 13, 'Grape___Leaf_blight_(Isariopsis_Leaf_Spot)': 14, 'Orange___Haunglongbing_(Citrus_greening)': 15, 'Peach___Bacterial_spot': 16, 'Peach___healthy': 17, 'Pepper,_bell___Bacterial_spot': 18, 'Pepper,_bell___healthy': 19, 'Potato___Early_blight': 20, 'Potato___healthy': 21, 'Potato___Late_blight': 22, 'Raspberry___healthy': 23, 'Soybean___healthy': 24, 'Squash___Powdery_mildew': 25, 'Strawberry___healthy': 26, 'Strawberry___Leaf_scorch': 27, 'Tomato___Bacterial_spot': 28, 'Tomato___Early_blight': 29, 'Tomato___healthy': 30, 'Tomato___Late_blight': 31, 'Tomato___Leaf_Mold': 32, 'Tomato___Septoria_leaf_spot': 33, 'Tomato___Spider_mites Two-spotted_spider_mite': 34, 'Tomato___Target_Spot': 35, 'Tomato___Tomato_mosaic_virus': 36, 'Tomato___Tomato_Yellow_Leaf_Curl_Virus': 37}\n"
     ]
    }
   ],
   "source": [
    "print(train_data.samples)  # kitni images training me hain\n",
    "print(val_data.samples)    # kitni images validation me hain\n",
    "print(train_data.class_indices)\n"
   ]
  },
  {
   "cell_type": "code",
   "execution_count": 8,
   "id": "c633a971",
   "metadata": {},
   "outputs": [
    {
     "name": "stdout",
     "output_type": "stream",
     "text": [
      "Epoch 1/10\n",
      "WARNING:tensorflow:From c:\\Users\\ishan\\AppData\\Local\\Programs\\Python\\Python311\\Lib\\site-packages\\keras\\src\\utils\\tf_utils.py:492: The name tf.ragged.RaggedTensorValue is deprecated. Please use tf.compat.v1.ragged.RaggedTensorValue instead.\n",
      "\n",
      "WARNING:tensorflow:From c:\\Users\\ishan\\AppData\\Local\\Programs\\Python\\Python311\\Lib\\site-packages\\keras\\src\\engine\\base_layer_utils.py:384: The name tf.executing_eagerly_outside_functions is deprecated. Please use tf.compat.v1.executing_eagerly_outside_functions instead.\n",
      "\n",
      "879/879 [==============================] - 932s 1s/step - loss: 1.9847 - accuracy: 0.4336 - val_loss: 0.7344 - val_accuracy: 0.7919\n",
      "Epoch 2/10\n",
      "879/879 [==============================] - 951s 1s/step - loss: 0.9439 - accuracy: 0.7104 - val_loss: 0.5759 - val_accuracy: 0.8288\n",
      "Epoch 3/10\n",
      "879/879 [==============================] - 476s 542ms/step - loss: 0.6926 - accuracy: 0.7833 - val_loss: 0.3995 - val_accuracy: 0.8750\n",
      "Epoch 4/10\n",
      "879/879 [==============================] - 979s 1s/step - loss: 0.5463 - accuracy: 0.8256 - val_loss: 0.3307 - val_accuracy: 0.8953\n",
      "Epoch 5/10\n",
      "879/879 [==============================] - 437s 497ms/step - loss: 0.4517 - accuracy: 0.8532 - val_loss: 0.2639 - val_accuracy: 0.9114\n",
      "Epoch 6/10\n",
      "879/879 [==============================] - 543s 618ms/step - loss: 0.3768 - accuracy: 0.8771 - val_loss: 0.2518 - val_accuracy: 0.9198\n",
      "Epoch 7/10\n",
      "879/879 [==============================] - 832s 946ms/step - loss: 0.3330 - accuracy: 0.8896 - val_loss: 0.2566 - val_accuracy: 0.9178\n",
      "Epoch 8/10\n",
      "879/879 [==============================] - 351s 399ms/step - loss: 0.2932 - accuracy: 0.9021 - val_loss: 0.1962 - val_accuracy: 0.9347\n",
      "Epoch 9/10\n",
      "879/879 [==============================] - 285s 324ms/step - loss: 0.2692 - accuracy: 0.9094 - val_loss: 0.2279 - val_accuracy: 0.9287\n",
      "Epoch 10/10\n",
      "879/879 [==============================] - 284s 323ms/step - loss: 0.2421 - accuracy: 0.9193 - val_loss: 0.2206 - val_accuracy: 0.9335\n"
     ]
    }
   ],
   "source": [
    "\n",
    "history = model.fit(train_data, validation_data=val_data, epochs=10)\n",
    "\n"
   ]
  },
  {
   "cell_type": "code",
   "execution_count": 9,
   "id": "5eb2cb5d",
   "metadata": {},
   "outputs": [
    {
     "name": "stderr",
     "output_type": "stream",
     "text": [
      "c:\\Users\\ishan\\AppData\\Local\\Programs\\Python\\Python311\\Lib\\site-packages\\keras\\src\\engine\\training.py:3103: UserWarning: You are saving your model as an HDF5 file via `model.save()`. This file format is considered legacy. We recommend using instead the native Keras format, e.g. `model.save('my_model.keras')`.\n",
      "  saving_api.save_model(\n"
     ]
    },
    {
     "name": "stdout",
     "output_type": "stream",
     "text": [
      "Model saved as potato_disease_model.h5\n"
     ]
    }
   ],
   "source": [
    "\n",
    "model.save(\"Plant_disease_model.h5\")\n",
    "print(\"Model saved as potato_disease_model.h5\")\n"
   ]
  },
  {
   "cell_type": "code",
   "execution_count": 10,
   "id": "910a56c4",
   "metadata": {},
   "outputs": [
    {
     "data": {
      "image/png": "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",
      "text/plain": [
       "<Figure size 640x480 with 1 Axes>"
      ]
     },
     "metadata": {},
     "output_type": "display_data"
    }
   ],
   "source": [
    "\n",
    "plt.plot(history.history['accuracy'], label=\"train_accuracy\")\n",
    "plt.plot(history.history['val_accuracy'], label=\"val_accuracy\")\n",
    "plt.legend()\n",
    "plt.show()\n"
   ]
  },
  {
   "cell_type": "code",
   "execution_count": 11,
   "id": "6a26718b",
   "metadata": {},
   "outputs": [
    {
     "name": "stdout",
     "output_type": "stream",
     "text": [
      "{'Apple___Apple_scab': 0, 'Apple___Black_rot': 1, 'Apple___Cedar_apple_rust': 2, 'Apple___healthy': 3, 'Blueberry___healthy': 4, 'Cherry_(including_sour)___healthy': 5, 'Cherry_(including_sour)___Powdery_mildew': 6, 'Corn_(maize)___Cercospora_leaf_spot Gray_leaf_spot': 7, 'Corn_(maize)___Common_rust_': 8, 'Corn_(maize)___healthy': 9, 'Corn_(maize)___Northern_Leaf_Blight': 10, 'Grape___Black_rot': 11, 'Grape___Esca_(Black_Measles)': 12, 'Grape___healthy': 13, 'Grape___Leaf_blight_(Isariopsis_Leaf_Spot)': 14, 'Orange___Haunglongbing_(Citrus_greening)': 15, 'Peach___Bacterial_spot': 16, 'Peach___healthy': 17, 'Pepper,_bell___Bacterial_spot': 18, 'Pepper,_bell___healthy': 19, 'Potato___Early_blight': 20, 'Potato___healthy': 21, 'Potato___Late_blight': 22, 'Raspberry___healthy': 23, 'Soybean___healthy': 24, 'Squash___Powdery_mildew': 25, 'Strawberry___healthy': 26, 'Strawberry___Leaf_scorch': 27, 'Tomato___Bacterial_spot': 28, 'Tomato___Early_blight': 29, 'Tomato___healthy': 30, 'Tomato___Late_blight': 31, 'Tomato___Leaf_Mold': 32, 'Tomato___Septoria_leaf_spot': 33, 'Tomato___Spider_mites Two-spotted_spider_mite': 34, 'Tomato___Target_Spot': 35, 'Tomato___Tomato_mosaic_virus': 36, 'Tomato___Tomato_Yellow_Leaf_Curl_Virus': 37}\n"
     ]
    }
   ],
   "source": [
    "print(train_data.class_indices)\n"
   ]
  },
  {
   "cell_type": "code",
   "execution_count": null,
   "id": "8e68a739",
   "metadata": {},
   "outputs": [],
   "source": []
  }
 ],
 "metadata": {
  "kernelspec": {
   "display_name": "Python 3",
   "language": "python",
   "name": "python3"
  },
  "language_info": {
   "codemirror_mode": {
    "name": "ipython",
    "version": 3
   },
   "file_extension": ".py",
   "mimetype": "text/x-python",
   "name": "python",
   "nbconvert_exporter": "python",
   "pygments_lexer": "ipython3",
   "version": "3.11.5"
  }
 },
 "nbformat": 4,
 "nbformat_minor": 5
}
